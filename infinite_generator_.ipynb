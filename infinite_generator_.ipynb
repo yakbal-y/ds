{
 "cells": [
  {
   "cell_type": "markdown",
   "id": "27e5ad6f-56a6-45bd-861a-818d34032eb6",
   "metadata": {},
   "source": [
    "<font color='red'>Before we jump to implication, let's review yield.</font> \n",
    "# Yield statement. \n",
    "Inside functions instead of return if we use yield, the object created will be an iterable object. For instance, see the following example:"
   ]
  },
  {
   "cell_type": "code",
   "execution_count": 56,
   "id": "37dd4607-de5a-474f-83f3-600b3f25ac70",
   "metadata": {},
   "outputs": [],
   "source": [
    "def iterable(n:int)->int:\n",
    "    for i in range(n):\n",
    "        yield i**2"
   ]
  },
  {
   "cell_type": "code",
   "execution_count": 58,
   "id": "1f33f679-bfe1-4556-8323-f221a212442b",
   "metadata": {},
   "outputs": [
    {
     "name": "stdout",
     "output_type": "stream",
     "text": [
      "0\n",
      "1\n",
      "4\n",
      "9\n",
      "16\n",
      "25\n",
      "36\n",
      "49\n",
      "64\n",
      "81\n"
     ]
    }
   ],
   "source": [
    "## Let's run it!\n",
    "for i in iterable(10):\n",
    "    print(i)\n",
    "## In the above function use return instead of yield, and run this cell again to see what happens."
   ]
  },
  {
   "cell_type": "markdown",
   "id": "3282e7e5-df52-4e18-870c-6c7cfa36a846",
   "metadata": {},
   "source": [
    "<font color='red'>We are now ready to read the real question!</font> \n"
   ]
  },
  {
   "cell_type": "markdown",
   "id": "cc31c457-a5b4-4730-a1ff-956c15be32f1",
   "metadata": {},
   "source": [
    "## Batch Generator"
   ]
  },
  {
   "cell_type": "markdown",
   "id": "35c5a9bf-defb-40be-a784-9072d9b2a8f8",
   "metadata": {},
   "source": [
    "To train some machine learning algorithms, we can't use the entire dataset all in once due to memory constraints. We may therefore need to chop of the dataset into small pieces called batches. In this question you will code a batch generator. A batch generator is actually an iterator. Iterating over it will give you the entire dataset in batches."
   ]
  },
  {
   "cell_type": "markdown",
   "id": "dde60f63-f997-4f01-a86a-4eff8aed0b74",
   "metadata": {},
   "source": [
    "![title](picture.png)"
   ]
  },
  {
   "cell_type": "markdown",
   "id": "e0a8ab6f-7f3c-4221-8c27-a413582dac84",
   "metadata": {},
   "source": [
    "It may happen that your dataset size may not be divisible by the batch size, in which case your final batch may not be complete.\n",
    "For example assume that your dataset is of size 13, and you want to split into batches of size 3. In this case there will be \n",
    "4 batches of size 3, and 1 batch (incomplete) of size 1. "
   ]
  },
  {
   "cell_type": "code",
   "execution_count": 33,
   "id": "af5f0b5a-d605-43c7-9f18-04c0f9383b78",
   "metadata": {},
   "outputs": [],
   "source": [
    "import numpy as np\n",
    "from numpy.random import choice, shuffle "
   ]
  },
  {
   "cell_type": "code",
   "execution_count": 34,
   "id": "aa7642e8-0b3b-4b4e-925a-12505546f5b0",
   "metadata": {},
   "outputs": [],
   "source": [
    "def generate_batches(X:np.ndarray,\n",
    "            batch_size = 32,\n",
    "            shuffle_dataset:bool = True)->np.ndarray:\n",
    "    ## Grab the length of X\n",
    "    ## Determine the number of batches --\n",
    "    ## instead of working with X work with a indice set\n",
    "    ## if asked shuffle index set\n",
    "    ## in a for loop yield a batch   "
   ]
  },
  {
   "cell_type": "code",
   "execution_count": 37,
   "id": "b2a34799-651d-4e26-a1a7-8962c8f67845",
   "metadata": {},
   "outputs": [
    {
     "name": "stdout",
     "output_type": "stream",
     "text": [
      "(10, 10)\n",
      "(10, 10)\n",
      "(10, 10)\n",
      "(10, 10)\n",
      "(10, 10)\n",
      "(10, 10)\n",
      "(10, 10)\n",
      "(10, 10)\n",
      "(10, 10)\n",
      "(10, 10)\n"
     ]
    }
   ],
   "source": [
    "X_train = np.random.randn(100,10)\n",
    "generator = generate_batches(X_train, batch_size=10)\n",
    "for x in generator:\n",
    "    print(x.shape) ## You should see here the shapes."
   ]
  }
 ],
 "metadata": {
  "kernelspec": {
   "display_name": "Python 3 (ipykernel)",
   "language": "python",
   "name": "python3"
  },
  "language_info": {
   "codemirror_mode": {
    "name": "ipython",
    "version": 3
   },
   "file_extension": ".py",
   "mimetype": "text/x-python",
   "name": "python",
   "nbconvert_exporter": "python",
   "pygments_lexer": "ipython3",
   "version": "3.11.7"
  }
 },
 "nbformat": 4,
 "nbformat_minor": 5
}
